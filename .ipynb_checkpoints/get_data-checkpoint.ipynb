{
 "cells": [
  {
   "cell_type": "code",
   "execution_count": 1,
   "id": "reflected-sleep",
   "metadata": {},
   "outputs": [],
   "source": [
    "import requests\n",
    "import json\n",
    "import requests_cache\n",
    "import time\n",
    "from IPython.core.display import clear_output\n",
    "\n",
    "requests_cache.install_cache()"
   ]
  },
  {
   "cell_type": "code",
   "execution_count": 2,
   "id": "freelance-tender",
   "metadata": {},
   "outputs": [],
   "source": [
    "API_KEY = 'a2ba28906c69f6372a0e34f7b3c5f6d3'\n",
    "USER_AGENT = 'infoquest'"
   ]
  },
  {
   "cell_type": "code",
   "execution_count": 3,
   "id": "instructional-dispute",
   "metadata": {},
   "outputs": [],
   "source": [
    "def lastfm_get(payload):\n",
    "    # define headers and URL\n",
    "    headers = {\n",
    "        'user-agent': USER_AGENT\n",
    "    }\n",
    "    url = 'http://ws.audioscrobbler.com/2.0/'\n",
    "\n",
    "    # Add API key and format to the payload\n",
    "    payload['api_key'] = API_KEY\n",
    "    payload['format'] = 'json'\n",
    "\n",
    "    response = requests.get(url, headers=headers, params=payload)\n",
    "    return response\n",
    "\n",
    "def to_json(obj):\n",
    "    # create a formatted string of the Python JSON object\n",
    "    text = json.dumps(obj, sort_keys=True, indent=4)\n",
    "    return text"
   ]
  },
  {
   "cell_type": "code",
   "execution_count": null,
   "id": "fiscal-crack",
   "metadata": {},
   "outputs": [],
   "source": [
    "print(to_json(r.json()))"
   ]
  },
  {
   "cell_type": "markdown",
   "id": "indie-horror",
   "metadata": {},
   "source": [
    "## Chart"
   ]
  },
  {
   "cell_type": "markdown",
   "id": "spectacular-netscape",
   "metadata": {},
   "source": [
    "### 1.1 Get Top Artists"
   ]
  },
  {
   "cell_type": "code",
   "execution_count": null,
   "id": "happy-standard",
   "metadata": {},
   "outputs": [
    {
     "name": "stdout",
     "output_type": "stream",
     "text": [
      "Requesting page 2580/7925\n"
     ]
    }
   ],
   "source": [
    "responses = []\n",
    "page = 1\n",
    "# total_pages = 79244\n",
    "total_pages = 5\n",
    "\n",
    "while page <= total_pages:\n",
    "    payload = {\n",
    "        'method': 'chart.gettopartists',\n",
    "        'limit': 500,\n",
    "        'page': page\n",
    "    }    \n",
    "    print(\"Requesting page {}/{}\".format(page, total_pages))\n",
    "    clear_output(wait = True)\n",
    "    \n",
    "    response = lastfm_get(payload)\n",
    "    \n",
    "    if response.status_code != 200:\n",
    "        print(response.text)\n",
    "        break\n",
    "\n",
    "    page = int(response.json()['artists']['@attr']['page'])\n",
    "    total_pages = int(response.json()['artists']['@attr']['totalPages'])\n",
    "    responses.append(response)\n",
    "\n",
    "    if not getattr(response, 'from_cache', False):\n",
    "        time.sleep(0.25)        \n",
    "    page += 1"
   ]
  },
  {
   "cell_type": "code",
   "execution_count": null,
   "id": "educated-password",
   "metadata": {},
   "outputs": [],
   "source": [
    "frames = [pd.DataFrame(r.json()['artists']['artist']) for r in responses]\n",
    "artists = pd.concat(frames)\n",
    "artists.head()"
   ]
  },
  {
   "cell_type": "code",
   "execution_count": null,
   "id": "fatal-calculator",
   "metadata": {},
   "outputs": [],
   "source": [
    "r = lastfm_get({\n",
    "    'method': 'artist.getTopTags',\n",
    "    'artist':  'Lana Del Rey'\n",
    "})\n"
   ]
  },
  {
   "cell_type": "code",
   "execution_count": null,
   "id": "homeless-white",
   "metadata": {},
   "outputs": [],
   "source": [
    "r.json()"
   ]
  },
  {
   "cell_type": "code",
   "execution_count": null,
   "id": "genuine-hayes",
   "metadata": {},
   "outputs": [],
   "source": []
  }
 ],
 "metadata": {
  "kernelspec": {
   "display_name": "Python 3",
   "language": "python",
   "name": "python3"
  },
  "language_info": {
   "codemirror_mode": {
    "name": "ipython",
    "version": 3
   },
   "file_extension": ".py",
   "mimetype": "text/x-python",
   "name": "python",
   "nbconvert_exporter": "python",
   "pygments_lexer": "ipython3",
   "version": "3.8.5"
  }
 },
 "nbformat": 4,
 "nbformat_minor": 5
}
