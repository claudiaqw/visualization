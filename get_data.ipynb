{
 "cells": [
  {
   "cell_type": "code",
   "execution_count": null,
   "id": "comfortable-morris",
   "metadata": {},
   "outputs": [],
   "source": [
    "import requests\n",
    "import json\n",
    "import requests_cache\n",
    "import time\n",
    "from IPython.core.display import clear_output\n",
    "import pandas as pd\n",
    "import numpy as np\n",
    "from tqdm import tqdm\n",
    "\n",
    "requests_cache.install_cache()"
   ]
  },
  {
   "cell_type": "code",
   "execution_count": null,
   "id": "expired-above",
   "metadata": {},
   "outputs": [],
   "source": [
    "API_KEY = 'a2ba28906c69f6372a0e34f7b3c5f6d3'\n",
    "USER_AGENT = 'infoquest'"
   ]
  },
  {
   "cell_type": "code",
   "execution_count": null,
   "id": "reduced-psychiatry",
   "metadata": {},
   "outputs": [],
   "source": [
    "def lastfm_get(payload):\n",
    "    # define headers and URL\n",
    "    headers = {\n",
    "        'user-agent': USER_AGENT\n",
    "    }\n",
    "    url = 'http://ws.audioscrobbler.com/2.0/'\n",
    "\n",
    "    # Add API key and format to the payload\n",
    "    payload['api_key'] = API_KEY\n",
    "    payload['format'] = 'json'\n",
    "\n",
    "    response = requests.get(url, headers=headers, params=payload)\n",
    "    return response\n",
    "\n",
    "def to_json(obj):\n",
    "    # create a formatted string of the Python JSON object\n",
    "    text = json.dumps(obj, sort_keys=True, indent=4)\n",
    "    return text"
   ]
  },
  {
   "cell_type": "markdown",
   "id": "hollow-transmission",
   "metadata": {},
   "source": [
    "## Chart"
   ]
  },
  {
   "cell_type": "markdown",
   "id": "tamil-certificate",
   "metadata": {},
   "source": [
    "### 1.1 Get Top Artists"
   ]
  },
  {
   "cell_type": "code",
   "execution_count": null,
   "id": "hawaiian-button",
   "metadata": {},
   "outputs": [],
   "source": [
    "responses = []\n",
    "page = 1\n",
    "total_pages = 99999\n",
    "\n",
    "while page <= total_pages:\n",
    "    payload = {\n",
    "        'method': 'chart.gettopartists',\n",
    "        'limit': 500,\n",
    "        'page': page\n",
    "    }    \n",
    "    print(\"Requesting page {}/{}\".format(page, total_pages))\n",
    "    clear_output(wait = True)\n",
    "    \n",
    "    response = lastfm_get(payload)\n",
    "    \n",
    "    if response.status_code != 200:\n",
    "        print(response.text)\n",
    "        break\n",
    "\n",
    "    page = int(response.json()['artists']['@attr']['page'])\n",
    "    total_pages = int(response.json()['artists']['@attr']['totalPages'])\n",
    "    responses.append(response)\n",
    "\n",
    "    if not getattr(response, 'from_cache', False):\n",
    "        time.sleep(0.25)        \n",
    "    page += 1"
   ]
  },
  {
   "cell_type": "code",
   "execution_count": null,
   "id": "latin-tokyo",
   "metadata": {},
   "outputs": [],
   "source": [
    "def lookup_tags(artist):\n",
    "    response = lastfm_get({\n",
    "        'method': 'artist.getTopTags',\n",
    "        'artist':  artist\n",
    "    })\n",
    "\n",
    "    if response.status_code != 200:\n",
    "        return None\n",
    "\n",
    "    # extract the top three tags and turn them into a string\n",
    "    tags = [t['name'] for t in response.json()['toptags']['tag'][:3]]\n",
    "    tags_str = ', '.join(tags)\n",
    "\n",
    "    # rate limiting\n",
    "    if not getattr(response, 'from_cache', False):\n",
    "        time.sleep(0.25)\n",
    "    return tags_str"
   ]
  },
  {
   "cell_type": "code",
   "execution_count": null,
   "id": "opponent-hello",
   "metadata": {},
   "outputs": [],
   "source": [
    "frames = [pd.DataFrame(r.json()['artists']['artist']) for r in responses]\n",
    "artists = pd.concat(frames)\n",
    "tqdm.pandas()\n",
    "artists['tags'] = artists['name'].progress_apply(lookup_tags)"
   ]
  },
  {
   "cell_type": "code",
   "execution_count": null,
   "id": "hazardous-heaven",
   "metadata": {},
   "outputs": [],
   "source": [
    "artists"
   ]
  },
  {
   "cell_type": "code",
   "execution_count": null,
   "id": "dominican-legislation",
   "metadata": {},
   "outputs": [],
   "source": [
    "artists.to_csv('./app/data/artists.csv')"
   ]
  },
  {
   "cell_type": "markdown",
   "id": "modern-coach",
   "metadata": {},
   "source": [
    "### 1.2 Get Top Tags"
   ]
  },
  {
   "cell_type": "code",
   "execution_count": null,
   "id": "saving-solomon",
   "metadata": {},
   "outputs": [],
   "source": [
    "r = lastfm_get({\n",
    "    'method': 'artist.getTopTags',\n",
    "    'artist':  'Lana Del Rey'\n",
    "})"
   ]
  },
  {
   "cell_type": "code",
   "execution_count": null,
   "id": "animal-store",
   "metadata": {},
   "outputs": [],
   "source": [
    "r = lastfm_get({\n",
    "    'method': 'user.getWeeklyAlbumChart',\n",
    "    'user': 'Efoja_87',\n",
    "    'from': '1212321600',\n",
    "    'to': '1212926400'\n",
    "})\n",
    "\n",
    "r.json()"
   ]
  },
  {
   "cell_type": "code",
   "execution_count": null,
   "id": "unauthorized-hotel",
   "metadata": {},
   "outputs": [],
   "source": [
    "r = lastfm_get({\n",
    "    'method': 'user.getWeeklyAlbumChart',\n",
    "    'user': 'bisa',\n",
    "    'from': '1212321600',\n",
    "    'to': '1212926400'\n",
    "})\n",
    "\n",
    "r.json()"
   ]
  },
  {
   "cell_type": "code",
   "execution_count": null,
   "id": "spoken-banks",
   "metadata": {},
   "outputs": [],
   "source": [
    "r = lastfm_get({\n",
    "    'method': 'user.getWeeklyChartList',\n",
    "    'user': 'bisa',\n",
    "})\n",
    "\n",
    "r.json()"
   ]
  },
  {
   "cell_type": "code",
   "execution_count": null,
   "id": "native-monday",
   "metadata": {},
   "outputs": [],
   "source": []
  }
 ],
 "metadata": {
  "kernelspec": {
   "display_name": "Python 3",
   "language": "python",
   "name": "python3"
  },
  "language_info": {
   "codemirror_mode": {
    "name": "ipython",
    "version": 3
   },
   "file_extension": ".py",
   "mimetype": "text/x-python",
   "name": "python",
   "nbconvert_exporter": "python",
   "pygments_lexer": "ipython3",
   "version": "3.8.5"
  }
 },
 "nbformat": 4,
 "nbformat_minor": 5
}
