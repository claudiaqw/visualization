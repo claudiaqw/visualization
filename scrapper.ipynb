{
 "cells": [
  {
   "cell_type": "code",
   "execution_count": null,
   "metadata": {},
   "outputs": [],
   "source": [
    "from selenium import webdriver\n",
    "from datetime import datetime\n",
    "from datetime import timedelta\n",
    "from dateutil.relativedelta import relativedelta\n",
    "import pandas as pd\n",
    "import numpy as np\n",
    "import wget\n",
    "import os\n",
    "import time\n",
    "from selenium.common.exceptions import ElementClickInterceptedException\n",
    "from bs4 import BeautifulSoup"
   ]
  },
  {
   "cell_type": "code",
   "execution_count": null,
   "metadata": {},
   "outputs": [],
   "source": [
    "base_url = 'https://www.reddit.com/r/lastfm/comments/7kgc86/list_of_users_by_scrobbles/'\n",
    "driver = webdriver.Chrome('./tools/chromedriver.exe')\n",
    "driver.get(base_url)\n",
    "\n",
    "content = driver.page_source\n",
    "soup = BeautifulSoup(content)"
   ]
  },
  {
   "cell_type": "code",
   "execution_count": null,
   "metadata": {},
   "outputs": [],
   "source": [
    "usernames = []\n",
    "\n",
    "for li in soup.findAll(attrs={'class':'_3gqTEjt4x9UIIpWiro7YXz'}):\n",
    "    user = li.find('a', attrs={'class':'_3t5uN8xUmg0TOwRCOGQEcU'})    \n",
    "    usernames.append(user.text)\n",
    "    \n",
    "usernames = usernames + ['Alainn', 'sibonforever', 'Betagate', 'juepucta', 'crapsorz']"
   ]
  },
  {
   "cell_type": "code",
   "execution_count": null,
   "metadata": {},
   "outputs": [],
   "source": [
    "def get_followers_following(user):\n",
    "    followers_user, following_user = [], []\n",
    "    followers_url = f\"https://www.last.fm/user/{user.lower()}/followers\"\n",
    "    following_url = f\"https://www.last.fm/user/{user.lower()}/following\"\n",
    "    \n",
    "    # getting followers\n",
    "    driver.get(followers_url)\n",
    "    content = driver.page_source\n",
    "    soup_followers = BeautifulSoup(content)\n",
    "    for h4 in soup_followers.findAll(attrs={'class':'user-list-name'}):\n",
    "        follower = h4.find('a', attrs={'class':'user-list-link link-block-target'})\n",
    "        followers_user.append(follower.text)\n",
    "    \n",
    "    #getting following\n",
    "    driver.get(following_url)\n",
    "    content = driver.page_source\n",
    "    soup_following = BeautifulSoup(content)\n",
    "    for h4 in soup_following.findAll(attrs={'class':'user-list-name'}):\n",
    "        followin = h4.find('a', attrs={'class':'user-list-link link-block-target'})\n",
    "        following_user.append(followin.text)\n",
    "    return followers_user, following_user"
   ]
  },
  {
   "cell_type": "code",
   "execution_count": null,
   "metadata": {},
   "outputs": [],
   "source": [
    "followers = []\n",
    "following = []\n",
    "i = 0\n",
    "for user in usernames:\n",
    "    i+= 1\n",
    "    print(i)\n",
    "    user_followers, user_following = get_followers_following(user)\n",
    "    followers = followers + user_followers\n",
    "    following = following + user_following "
   ]
  },
  {
   "cell_type": "code",
   "execution_count": null,
   "metadata": {},
   "outputs": [],
   "source": [
    "for user in followers:\n",
    "    i+= 1\n",
    "    print(i)\n",
    "    user_followers, user_following = get_followers_following(user)\n",
    "    usernames = usernames +  user_followers + user_following\n",
    "    \n",
    "for user in following:\n",
    "    i+= 1\n",
    "    print(i)\n",
    "    user_followers, user_following = get_followers_following(user)\n",
    "    usernames = usernames +  user_followers + user_following"
   ]
  },
  {
   "cell_type": "code",
   "execution_count": null,
   "metadata": {},
   "outputs": [],
   "source": [
    "followers"
   ]
  },
  {
   "cell_type": "code",
   "execution_count": null,
   "metadata": {},
   "outputs": [],
   "source": [
    "users = usernames + followers + following\n",
    "users"
   ]
  },
  {
   "cell_type": "code",
   "execution_count": null,
   "metadata": {},
   "outputs": [],
   "source": [
    "users = list(set(users))\n",
    "len(users)"
   ]
  },
  {
   "cell_type": "code",
   "execution_count": null,
   "metadata": {},
   "outputs": [],
   "source": [
    "def get_usernames(seed, current_depth = 0, max_depth = 2):\n",
    "    if \n",
    "    "
   ]
  },
  {
   "cell_type": "code",
   "execution_count": null,
   "metadata": {},
   "outputs": [],
   "source": [
    "import pandas as pd\n",
    "users_df = pd.DataFrame(users, columns)\n",
    "users.df.to_csv('./app/data/usernames.csv')"
   ]
  }
 ],
 "metadata": {
  "kernelspec": {
   "display_name": "Python 3",
   "language": "python",
   "name": "python3"
  },
  "language_info": {
   "codemirror_mode": {
    "name": "ipython",
    "version": 3
   },
   "file_extension": ".py",
   "mimetype": "text/x-python",
   "name": "python",
   "nbconvert_exporter": "python",
   "pygments_lexer": "ipython3",
   "version": "3.8.3"
  }
 },
 "nbformat": 4,
 "nbformat_minor": 5
}
